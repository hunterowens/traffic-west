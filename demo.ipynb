{
 "metadata": {
  "language_info": {
   "codemirror_mode": {
    "name": "ipython",
    "version": 3
   },
   "file_extension": ".py",
   "mimetype": "text/x-python",
   "name": "python",
   "nbconvert_exporter": "python",
   "pygments_lexer": "ipython3",
   "version": "3.8.2-final"
  },
  "orig_nbformat": 2,
  "kernelspec": {
   "name": "python38264bitgdalcondad58a2bbb99dd4625b3d1d73db96cac1e",
   "display_name": "Python 3.8.2 64-bit ('gdal': conda)"
  }
 },
 "nbformat": 4,
 "nbformat_minor": 2,
 "cells": [
  {
   "cell_type": "code",
   "execution_count": 2,
   "metadata": {},
   "outputs": [],
   "source": [
    "import pandas as pd\n",
    "import requests"
   ]
  },
  {
   "cell_type": "code",
   "execution_count": 3,
   "metadata": {},
   "outputs": [],
   "source": [
    "r = requests.get('https://oss.weathershare.org/data/CCTV/OSS_cctv.json')"
   ]
  },
  {
   "cell_type": "code",
   "execution_count": 41,
   "metadata": {},
   "outputs": [],
   "source": [
    "data = r.json()[0]"
   ]
  },
  {
   "cell_type": "code",
   "execution_count": 16,
   "metadata": {},
   "outputs": [
    {
     "output_type": "execute_result",
     "data": {
      "text/plain": "8420"
     },
     "metadata": {},
     "execution_count": 16
    }
   ],
   "source": [
    "len(data)"
   ]
  },
  {
   "cell_type": "code",
   "execution_count": 19,
   "metadata": {},
   "outputs": [],
   "source": [
    "import twitter_bot_utils as tbu\n",
    "\n",
    "# Automatically check for a config file in the above-named directories\n",
    "twitter = tbu.API(screen_name='botUGS')"
   ]
  },
  {
   "cell_type": "code",
   "execution_count": 28,
   "metadata": {},
   "outputs": [],
   "source": [
    "\n",
    "def tweet_image(url, message):\n",
    "    filename = '/tmp/temp.jpg'\n",
    "    request = requests.get(url, stream=True)\n",
    "    if request.status_code == 200:\n",
    "        with open(filename, 'wb') as image:\n",
    "            for chunk in request:\n",
    "                image.write(chunk)\n",
    "\n",
    "        twitter.update_with_media(filename, status=message)\n",
    "        os.remove(filename)\n",
    "    else:\n",
    "        print(\"Unable to download image\")\n"
   ]
  },
  {
   "cell_type": "code",
   "execution_count": 31,
   "metadata": {},
   "outputs": [],
   "source": [
    "url = data[1]"
   ]
  },
  {
   "cell_type": "code",
   "execution_count": 30,
   "metadata": {},
   "outputs": [],
   "source": [
    "tweet_image(url, \"Test\")"
   ]
  },
  {
   "cell_type": "code",
   "execution_count": 62,
   "metadata": {},
   "outputs": [],
   "source": [
    "data = [d for d in data if 'url' in d]"
   ]
  },
  {
   "cell_type": "code",
   "execution_count": 64,
   "metadata": {},
   "outputs": [],
   "source": [
    "data = [d for d in data if d['url'] != []]"
   ]
  },
  {
   "cell_type": "code",
   "execution_count": 66,
   "metadata": {},
   "outputs": [
    {
     "output_type": "execute_result",
     "data": {
      "text/plain": "8062"
     },
     "metadata": {},
     "execution_count": 66
    }
   ],
   "source": [
    "random_camera = np.random.choice(data)\n",
    "tweet_image(random_camera['url'], random_camera['location'])"
   ]
  },
  {
   "cell_type": "code",
   "execution_count": null,
   "metadata": {},
   "outputs": [],
   "source": []
  }
 ]
}